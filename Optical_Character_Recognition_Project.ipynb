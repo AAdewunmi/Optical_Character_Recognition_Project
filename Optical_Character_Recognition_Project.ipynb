{
  "nbformat": 4,
  "nbformat_minor": 0,
  "metadata": {
    "colab": {
      "provenance": [],
      "authorship_tag": "ABX9TyOOcZ7lWAlYcp9NHw+6TgkB",
      "include_colab_link": true
    },
    "kernelspec": {
      "name": "python3",
      "display_name": "Python 3"
    },
    "language_info": {
      "name": "python"
    }
  },
  "cells": [
    {
      "cell_type": "markdown",
      "metadata": {
        "id": "view-in-github",
        "colab_type": "text"
      },
      "source": [
        "<a href=\"https://colab.research.google.com/github/AAdewunmi/Optical_Character_Recognition_Project/blob/main/Optical_Character_Recognition_Project.ipynb\" target=\"_parent\"><img src=\"https://colab.research.google.com/assets/colab-badge.svg\" alt=\"Open In Colab\"/></a>"
      ]
    },
    {
      "cell_type": "markdown",
      "source": [
        "# Project Title: Optical Character Recognition Project\n",
        "\n",
        "Date: May 17, 2025\n",
        "\n",
        "Objective: In this project, we will be working on extracting text from images. After extracting the text we will apply some basic functions of OpenCv on the text to enhance it and to get more accurate results. This project will be very useful as it will save time and effort required to extract text from images."
      ],
      "metadata": {
        "id": "x1s1enDERGZ1"
      }
    },
    {
      "cell_type": "code",
      "source": [
        "# Import requests to install Tesseract\n",
        "import requests"
      ],
      "metadata": {
        "id": "L-GCzKUqlOMb"
      },
      "execution_count": 1,
      "outputs": []
    },
    {
      "cell_type": "markdown",
      "source": [
        "We will import request library for fetching the URL of files and images."
      ],
      "metadata": {
        "id": "LZNLp0rZl79L"
      }
    },
    {
      "cell_type": "code",
      "source": [
        "# Download tesseract-ocr data set\n",
        "r = requests.get(\"https://raw.githubusercontent.com/tesseract-ocr/tessdata/4.00/ind.traineddata\", stream = True)"
      ],
      "metadata": {
        "id": "TV2lJfDKmUR1"
      },
      "execution_count": 2,
      "outputs": []
    }
  ]
}