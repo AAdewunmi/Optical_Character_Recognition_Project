{
  "nbformat": 4,
  "nbformat_minor": 0,
  "metadata": {
    "colab": {
      "provenance": [],
      "authorship_tag": "ABX9TyOp8/yOCm6OmcojFh/POtvD",
      "include_colab_link": true
    },
    "kernelspec": {
      "name": "python3",
      "display_name": "Python 3"
    },
    "language_info": {
      "name": "python"
    }
  },
  "cells": [
    {
      "cell_type": "markdown",
      "metadata": {
        "id": "view-in-github",
        "colab_type": "text"
      },
      "source": [
        "<a href=\"https://colab.research.google.com/github/AAdewunmi/Optical_Character_Recognition_Project/blob/main/Optical_Character_Recognition_Project.ipynb\" target=\"_parent\"><img src=\"https://colab.research.google.com/assets/colab-badge.svg\" alt=\"Open In Colab\"/></a>"
      ]
    },
    {
      "cell_type": "markdown",
      "source": [
        "# Project Title: Optical Character Recognition Project\n",
        "\n",
        "Date: May 17, 2025\n",
        "\n",
        "Objective: In this project, we will be working on extracting text from images. After extracting the text we will apply some basic functions of OpenCv on the text to enhance it and to get more accurate results. This project will be very useful as it will save time and effort required to extract text from images."
      ],
      "metadata": {
        "id": "x1s1enDERGZ1"
      }
    },
    {
      "cell_type": "code",
      "source": [
        "# Import requests to install Tesseract\n",
        "import requests"
      ],
      "metadata": {
        "id": "L-GCzKUqlOMb"
      },
      "execution_count": 46,
      "outputs": []
    },
    {
      "cell_type": "markdown",
      "source": [
        "We will import request library for fetching the URL of files and images."
      ],
      "metadata": {
        "id": "LZNLp0rZl79L"
      }
    },
    {
      "cell_type": "code",
      "source": [
        "# Download tesseract-ocr dataset\n",
        "r = requests.get(\"https://raw.githubusercontent.com/tesseract-ocr/tessdata/4.00/ind.traineddata\", stream = True)\n",
        "\n",
        "# Writing data to file to avoid path issues\n",
        "with open(\"/usr/share/tesseract-ocr/4.00/tessdata/ind.traineddate\", \"wb\") as file:\n",
        "  for block in r.iter_content(chunk_size = 1024):\n",
        "    if block:\n",
        "      file.write(block)"
      ],
      "metadata": {
        "id": "TV2lJfDKmUR1"
      },
      "execution_count": 47,
      "outputs": []
    },
    {
      "cell_type": "markdown",
      "source": [
        "We will download tesseract which is required for pytesseract library to run and save the file at the path specified in open() function."
      ],
      "metadata": {
        "id": "ajbchKTZ6XiF"
      }
    },
    {
      "cell_type": "code",
      "source": [
        "# Install Tesseract and required packages\n",
        "!apt-get install -y tesseract-ocr libtesseract-dev\n",
        "\n",
        "# Import IPython to clear output which is not important\n",
        "from IPython.display import HTML, clear_output\n",
        "clear_output()"
      ],
      "metadata": {
        "id": "_tW7BqFk6_gZ"
      },
      "execution_count": 48,
      "outputs": []
    },
    {
      "cell_type": "code",
      "source": [
        "# Install Python wrapper for Tesseract\n",
        "!pip install pytesseract\n",
        "clear_output()"
      ],
      "metadata": {
        "id": "FDurtB2Z_MfO"
      },
      "execution_count": 49,
      "outputs": []
    },
    {
      "cell_type": "code",
      "source": [
        "# Install ImageMagick for image preprocessing\n",
        "!apt-get install -y imagemagick\n",
        "clear_output()"
      ],
      "metadata": {
        "id": "wT9ydsJcAXfL"
      },
      "execution_count": 50,
      "outputs": []
    },
    {
      "cell_type": "code",
      "source": [
        "# Check ImageMagick is installed\n",
        "!convert --version"
      ],
      "metadata": {
        "colab": {
          "base_uri": "https://localhost:8080/"
        },
        "id": "fzELc-2WBdt6",
        "outputId": "e199c213-5af7-452a-f3b7-65757a307c50"
      },
      "execution_count": 51,
      "outputs": [
        {
          "output_type": "stream",
          "name": "stdout",
          "text": [
            "Version: ImageMagick 6.9.11-60 Q16 x86_64 2021-01-25 https://imagemagick.org\n",
            "Copyright: (C) 1999-2021 ImageMagick Studio LLC\n",
            "License: https://imagemagick.org/script/license.php\n",
            "Features: Cipher DPC Modules OpenMP(4.5) \n",
            "Delegates (built-in): bzlib djvu fftw fontconfig freetype heic jbig jng jp2 jpeg lcms lqr ltdl lzma openexr pangocairo png tiff webp wmf x xml zlib\n"
          ]
        }
      ]
    },
    {
      "cell_type": "code",
      "source": [
        "# Check tesseract is installed\n",
        "!tesseract --version"
      ],
      "metadata": {
        "colab": {
          "base_uri": "https://localhost:8080/"
        },
        "id": "VQR2lkSPBpzu",
        "outputId": "e0445450-cdd4-4df8-d2e0-91531b598507"
      },
      "execution_count": 52,
      "outputs": [
        {
          "output_type": "stream",
          "name": "stdout",
          "text": [
            "tesseract 4.1.1\n",
            " leptonica-1.82.0\n",
            "  libgif 5.1.9 : libjpeg 8d (libjpeg-turbo 2.1.1) : libpng 1.6.37 : libtiff 4.3.0 : zlib 1.2.11 : libwebp 1.2.2 : libopenjp2 2.4.0\n",
            " Found AVX2\n",
            " Found AVX\n",
            " Found FMA\n",
            " Found SSE\n",
            " Found libarchive 3.6.0 zlib/1.2.11 liblzma/5.2.5 bz2lib/1.0.8 liblz4/1.9.3 libzstd/1.4.8\n"
          ]
        }
      ]
    },
    {
      "cell_type": "markdown",
      "source": [
        "In this step we will install the required libraries for OCR and we will import IPython functions to clear the undesired output."
      ],
      "metadata": {
        "id": "_JW9MoWeEHVw"
      }
    },
    {
      "cell_type": "code",
      "source": [
        "# Installing pytesseract and opencv\n",
        "!pip install pytesseract wand opencv-python\n",
        "clear_output()"
      ],
      "metadata": {
        "id": "KaKO3v5OCt4O"
      },
      "execution_count": 53,
      "outputs": []
    },
    {
      "cell_type": "code",
      "source": [
        "# Check opencv-python is installed\n",
        "import cv2\n",
        "print(cv2.__version__)"
      ],
      "metadata": {
        "colab": {
          "base_uri": "https://localhost:8080/"
        },
        "id": "Cq8ujqbOFpe7",
        "outputId": "2f5ec97f-cf47-4d37-e8b7-275bf5c903bb"
      },
      "execution_count": 54,
      "outputs": [
        {
          "output_type": "stream",
          "name": "stdout",
          "text": [
            "4.11.0\n"
          ]
        }
      ]
    }
  ]
}