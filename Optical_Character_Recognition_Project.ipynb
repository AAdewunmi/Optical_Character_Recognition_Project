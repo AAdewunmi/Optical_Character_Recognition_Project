{
  "nbformat": 4,
  "nbformat_minor": 0,
  "metadata": {
    "colab": {
      "provenance": [],
      "authorship_tag": "ABX9TyOqwBYAyKDnbfyO9ybG5Qwc",
      "include_colab_link": true
    },
    "kernelspec": {
      "name": "python3",
      "display_name": "Python 3"
    },
    "language_info": {
      "name": "python"
    }
  },
  "cells": [
    {
      "cell_type": "markdown",
      "metadata": {
        "id": "view-in-github",
        "colab_type": "text"
      },
      "source": [
        "<a href=\"https://colab.research.google.com/github/AAdewunmi/Optical_Character_Recognition_Project/blob/main/Optical_Character_Recognition_Project.ipynb\" target=\"_parent\"><img src=\"https://colab.research.google.com/assets/colab-badge.svg\" alt=\"Open In Colab\"/></a>"
      ]
    },
    {
      "cell_type": "markdown",
      "source": [
        "# Project Title: Optical Character Recognition Project\n",
        "\n",
        "Date: May 17, 2025\n",
        "\n",
        "Objective: In this project, we will be working on extracting text from images. After extracting the text we will apply some basic functions of OpenCv on the text to enhance it and to get more accurate results. This project will be very useful as it will save time and effort required to extract text from images."
      ],
      "metadata": {
        "id": "x1s1enDERGZ1"
      }
    },
    {
      "cell_type": "code",
      "source": [
        "# Import requests to install Tesseract\n",
        "import requests"
      ],
      "metadata": {
        "id": "L-GCzKUqlOMb"
      },
      "execution_count": 12,
      "outputs": []
    },
    {
      "cell_type": "markdown",
      "source": [
        "We will import request library for fetching the URL of files and images."
      ],
      "metadata": {
        "id": "LZNLp0rZl79L"
      }
    },
    {
      "cell_type": "code",
      "source": [
        "# Download tesseract-ocr dataset\n",
        "r = requests.get(\"https://raw.githubusercontent.com/tesseract-ocr/tessdata/4.00/ind.traineddata\", stream = True)\n",
        "\n",
        "# Writing data to file to avoid path issues\n",
        "with open(\"/usr/share/tesseract-ocr/4.00/tessdata/ind.traineddate\", \"wb\") as file:\n",
        "  for block in r.iter_content(chunk_size = 1024):\n",
        "    if block:\n",
        "      file.write(block)"
      ],
      "metadata": {
        "id": "TV2lJfDKmUR1"
      },
      "execution_count": 13,
      "outputs": []
    },
    {
      "cell_type": "markdown",
      "source": [
        "We will download tesseract which is required for pytesseract library to run and save the file at the path specified in open() function."
      ],
      "metadata": {
        "id": "ajbchKTZ6XiF"
      }
    },
    {
      "cell_type": "code",
      "source": [
        "# Install Tesseract and required packages\n",
        "!apt-get install -y tesseract-ocr libtesseract-dev"
      ],
      "metadata": {
        "colab": {
          "base_uri": "https://localhost:8080/"
        },
        "id": "_tW7BqFk6_gZ",
        "outputId": "cd9c22e8-0141-4c16-a0b2-53b3e0b68902"
      },
      "execution_count": 14,
      "outputs": [
        {
          "output_type": "stream",
          "name": "stdout",
          "text": [
            "Reading package lists... Done\n",
            "Building dependency tree... Done\n",
            "Reading state information... Done\n",
            "libtesseract-dev is already the newest version (4.1.1-2.1build1).\n",
            "tesseract-ocr is already the newest version (4.1.1-2.1build1).\n",
            "0 upgraded, 0 newly installed, 0 to remove and 34 not upgraded.\n"
          ]
        }
      ]
    },
    {
      "cell_type": "code",
      "source": [
        "# Install Python wrapper for Tesseract\n",
        "!pip install pytesseract"
      ],
      "metadata": {
        "colab": {
          "base_uri": "https://localhost:8080/"
        },
        "id": "FDurtB2Z_MfO",
        "outputId": "792fa825-2bcc-4618-e73f-d9ea321a6b0a"
      },
      "execution_count": 15,
      "outputs": [
        {
          "output_type": "stream",
          "name": "stdout",
          "text": [
            "Collecting pytesseract\n",
            "  Downloading pytesseract-0.3.13-py3-none-any.whl.metadata (11 kB)\n",
            "Requirement already satisfied: packaging>=21.3 in /usr/local/lib/python3.11/dist-packages (from pytesseract) (24.2)\n",
            "Requirement already satisfied: Pillow>=8.0.0 in /usr/local/lib/python3.11/dist-packages (from pytesseract) (11.2.1)\n",
            "Downloading pytesseract-0.3.13-py3-none-any.whl (14 kB)\n",
            "Installing collected packages: pytesseract\n",
            "Successfully installed pytesseract-0.3.13\n"
          ]
        }
      ]
    }
  ]
}